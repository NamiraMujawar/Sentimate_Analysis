{
 "cells": [
  {
   "cell_type": "code",
   "execution_count": null,
   "metadata": {
    "colab": {
     "base_uri": "https://localhost:8080/"
    },
    "id": "26Fk5y7Hnx9P",
    "outputId": "f2fa3f84-581d-4ab3-e361-dbf0f953e276"
   },
   "outputs": [
    {
     "name": "stdout",
     "output_type": "stream",
     "text": [
      "Looking in indexes: https://pypi.org/simple, https://us-python.pkg.dev/colab-wheels/public/simple/\n",
      "Requirement already satisfied: transformers in /usr/local/lib/python3.10/dist-packages (4.30.2)\n",
      "Requirement already satisfied: filelock in /usr/local/lib/python3.10/dist-packages (from transformers) (3.12.0)\n",
      "Requirement already satisfied: huggingface-hub<1.0,>=0.14.1 in /usr/local/lib/python3.10/dist-packages (from transformers) (0.15.1)\n",
      "Requirement already satisfied: numpy>=1.17 in /usr/local/lib/python3.10/dist-packages (from transformers) (1.22.4)\n",
      "Requirement already satisfied: packaging>=20.0 in /usr/local/lib/python3.10/dist-packages (from transformers) (23.1)\n",
      "Requirement already satisfied: pyyaml>=5.1 in /usr/local/lib/python3.10/dist-packages (from transformers) (6.0)\n",
      "Requirement already satisfied: regex!=2019.12.17 in /usr/local/lib/python3.10/dist-packages (from transformers) (2022.10.31)\n",
      "Requirement already satisfied: requests in /usr/local/lib/python3.10/dist-packages (from transformers) (2.27.1)\n",
      "Requirement already satisfied: tokenizers!=0.11.3,<0.14,>=0.11.1 in /usr/local/lib/python3.10/dist-packages (from transformers) (0.13.3)\n",
      "Requirement already satisfied: safetensors>=0.3.1 in /usr/local/lib/python3.10/dist-packages (from transformers) (0.3.1)\n",
      "Requirement already satisfied: tqdm>=4.27 in /usr/local/lib/python3.10/dist-packages (from transformers) (4.65.0)\n",
      "Requirement already satisfied: fsspec in /usr/local/lib/python3.10/dist-packages (from huggingface-hub<1.0,>=0.14.1->transformers) (2023.4.0)\n",
      "Requirement already satisfied: typing-extensions>=3.7.4.3 in /usr/local/lib/python3.10/dist-packages (from huggingface-hub<1.0,>=0.14.1->transformers) (4.5.0)\n",
      "Requirement already satisfied: urllib3<1.27,>=1.21.1 in /usr/local/lib/python3.10/dist-packages (from requests->transformers) (1.26.15)\n",
      "Requirement already satisfied: certifi>=2017.4.17 in /usr/local/lib/python3.10/dist-packages (from requests->transformers) (2022.12.7)\n",
      "Requirement already satisfied: charset-normalizer~=2.0.0 in /usr/local/lib/python3.10/dist-packages (from requests->transformers) (2.0.12)\n",
      "Requirement already satisfied: idna<4,>=2.5 in /usr/local/lib/python3.10/dist-packages (from requests->transformers) (3.4)\n",
      "Looking in indexes: https://pypi.org/simple, https://us-python.pkg.dev/colab-wheels/public/simple/\n",
      "Requirement already satisfied: pandas in /usr/local/lib/python3.10/dist-packages (1.5.3)\n",
      "Requirement already satisfied: python-dateutil>=2.8.1 in /usr/local/lib/python3.10/dist-packages (from pandas) (2.8.2)\n",
      "Requirement already satisfied: pytz>=2020.1 in /usr/local/lib/python3.10/dist-packages (from pandas) (2022.7.1)\n",
      "Requirement already satisfied: numpy>=1.21.0 in /usr/local/lib/python3.10/dist-packages (from pandas) (1.22.4)\n",
      "Requirement already satisfied: six>=1.5 in /usr/local/lib/python3.10/dist-packages (from python-dateutil>=2.8.1->pandas) (1.16.0)\n"
     ]
    }
   ],
   "source": [
    "!pip install transformers\n",
    "!pip install pandas"
   ]
  },
  {
   "cell_type": "code",
   "execution_count": null,
   "metadata": {
    "id": "w48O2cxk6i5-"
   },
   "outputs": [],
   "source": [
    "import torch\n",
    "import pandas as pd\n",
    "from transformers import BertTokenizer, BertForSequenceClassification\n",
    "from torch.utils.data import Dataset, DataLoader\n",
    "from sklearn.model_selection import train_test_split"
   ]
  },
  {
   "cell_type": "code",
   "execution_count": null,
   "metadata": {
    "id": "1JaQOBnG8NL4"
   },
   "outputs": [],
   "source": [
    "from numpy import math\n",
    "from numpy import loadtxt\n",
    "import seaborn as sns\n",
    "import matplotlib.pyplot as plt\n",
    "%matplotlib inline\n",
    "from matplotlib import rcParams"
   ]
  },
  {
   "cell_type": "code",
   "execution_count": null,
   "metadata": {
    "id": "s6V2i4_P8i0Z"
   },
   "outputs": [],
   "source": [
    "from sklearn.metrics import f1_score"
   ]
  },
  {
   "cell_type": "code",
   "execution_count": null,
   "metadata": {
    "id": "6LoXGDDn8nos"
   },
   "outputs": [],
   "source": [
    "import numpy as np\n",
    "import matplotlib.pyplot as plt\n",
    "import seaborn as sns\n",
    "from sklearn.metrics import confusion_matrix"
   ]
  },
  {
   "cell_type": "code",
   "execution_count": null,
   "metadata": {
    "colab": {
     "base_uri": "https://localhost:8080/"
    },
    "id": "6mLKVQvTnywT",
    "outputId": "1210d742-138b-4a40-bad8-e0b593642e77"
   },
   "outputs": [
    {
     "name": "stderr",
     "output_type": "stream",
     "text": [
      "Some weights of the model checkpoint at bert-base-multilingual-cased were not used when initializing BertForSequenceClassification: ['cls.predictions.bias', 'cls.seq_relationship.bias', 'cls.predictions.transform.LayerNorm.bias', 'cls.predictions.transform.dense.weight', 'cls.predictions.transform.LayerNorm.weight', 'cls.predictions.transform.dense.bias', 'cls.seq_relationship.weight']\n",
      "- This IS expected if you are initializing BertForSequenceClassification from the checkpoint of a model trained on another task or with another architecture (e.g. initializing a BertForSequenceClassification model from a BertForPreTraining model).\n",
      "- This IS NOT expected if you are initializing BertForSequenceClassification from the checkpoint of a model that you expect to be exactly identical (initializing a BertForSequenceClassification model from a BertForSequenceClassification model).\n",
      "Some weights of BertForSequenceClassification were not initialized from the model checkpoint at bert-base-multilingual-cased and are newly initialized: ['classifier.weight', 'classifier.bias']\n",
      "You should probably TRAIN this model on a down-stream task to be able to use it for predictions and inference.\n"
     ]
    }
   ],
   "source": [
    "# Load Urdu BERT tokenizer and model\n",
    "tokenizer = BertTokenizer.from_pretrained(\"bert-base-multilingual-cased\")\n",
    "model = BertForSequenceClassification.from_pretrained(\"bert-base-multilingual-cased\", num_labels=2)"
   ]
  },
  {
   "cell_type": "code",
   "execution_count": null,
   "metadata": {
    "id": "lCBMEcDy3ghJ"
   },
   "outputs": [],
   "source": [
    "import csv"
   ]
  },
  {
   "cell_type": "code",
   "execution_count": null,
   "metadata": {
    "colab": {
     "base_uri": "https://localhost:8080/"
    },
    "id": "a3wqZ4p1p6VV",
    "outputId": "456bfdb7-eeb7-4196-b574-5be7d19e1656"
   },
   "outputs": [
    {
     "name": "stdout",
     "output_type": "stream",
     "text": [
      "Total words: 7299\n"
     ]
    }
   ],
   "source": [
    "\n",
    "\n",
    "# Provide the path to the CSV file containing the text data\n",
    "csv_file_path = '/content/Copy of Urdu Sentiment Analysis - Sheet1.csv'\n",
    "\n",
    "# Open the CSV file\n",
    "with open(csv_file_path, 'r', encoding='utf-8') as file:\n",
    "    reader = csv.reader(file)\n",
    "    total_words = 0\n",
    "\n",
    "    # Iterate over each row in the CSV file\n",
    "    for row in reader:\n",
    "        # Assuming the text is present in a specific column, modify the index accordingly\n",
    "        text = row[0]\n",
    "\n",
    "        # Split the text into words\n",
    "        words = text.split()\n",
    "\n",
    "        # Count the number of words in the row\n",
    "        num_words = len(words)\n",
    "\n",
    "        # Add the number of words to the total count\n",
    "        total_words += num_words\n",
    "\n",
    "# Print the total number of words in the CSV file\n",
    "print(\"Total words:\", total_words)\n"
   ]
  },
  {
   "cell_type": "code",
   "execution_count": null,
   "metadata": {
    "id": "J1L06Xab6scj"
   },
   "outputs": [],
   "source": [
    "df= pd.read_csv('/content/Copy of Urdu Sentiment Analysis - Sheet1.csv')"
   ]
  },
  {
   "cell_type": "code",
   "execution_count": null,
   "metadata": {
    "colab": {
     "base_uri": "https://localhost:8080/",
     "height": 206
    },
    "id": "mui2wSuy7HN9",
    "outputId": "c9e92d58-8c4d-40c7-b709-e5812315294d"
   },
   "outputs": [
    {
     "data": {
      "text/html": [
       "\n",
       "  <div id=\"df-9a6fb8f8-183c-44e0-896b-8f1cb7de5aef\">\n",
       "    <div class=\"colab-df-container\">\n",
       "      <div>\n",
       "<style scoped>\n",
       "    .dataframe tbody tr th:only-of-type {\n",
       "        vertical-align: middle;\n",
       "    }\n",
       "\n",
       "    .dataframe tbody tr th {\n",
       "        vertical-align: top;\n",
       "    }\n",
       "\n",
       "    .dataframe thead th {\n",
       "        text-align: right;\n",
       "    }\n",
       "</style>\n",
       "<table border=\"1\" class=\"dataframe\">\n",
       "  <thead>\n",
       "    <tr style=\"text-align: right;\">\n",
       "      <th></th>\n",
       "      <th>sentence</th>\n",
       "      <th>English Translation</th>\n",
       "      <th>Sentiment</th>\n",
       "      <th>Source</th>\n",
       "      <th>Index</th>\n",
       "    </tr>\n",
       "  </thead>\n",
       "  <tbody>\n",
       "    <tr>\n",
       "      <th>0</th>\n",
       "      <td>محسوس تو گوگل ٹرانسلاٹ کا مودیفائد ورژن ہی ہوت...</td>\n",
       "      <td>It feels like a modified version of Google Tra...</td>\n",
       "      <td>Positive</td>\n",
       "      <td>https://www.write-urdu.com/</td>\n",
       "      <td>1.0</td>\n",
       "    </tr>\n",
       "    <tr>\n",
       "      <th>1</th>\n",
       "      <td>لکھنا شروع کریں</td>\n",
       "      <td>Start writing</td>\n",
       "      <td>Neutral</td>\n",
       "      <td>https://www.write-urdu.com/</td>\n",
       "      <td>0.0</td>\n",
       "    </tr>\n",
       "    <tr>\n",
       "      <th>2</th>\n",
       "      <td>اس انتظار سے کیا گلا جو تیرے دیدار پر ختم ہو</td>\n",
       "      <td>What is the throat of this waiting that ends w...</td>\n",
       "      <td>Negative</td>\n",
       "      <td>https://www.easynepalityping.com/type-urdu</td>\n",
       "      <td>-1.0</td>\n",
       "    </tr>\n",
       "    <tr>\n",
       "      <th>3</th>\n",
       "      <td>جشنِ چراغاں دیوالی کی دلی مبارکباد</td>\n",
       "      <td>Happy Diwali celebration</td>\n",
       "      <td>Positive</td>\n",
       "      <td>@Ishq_Urdu</td>\n",
       "      <td>1.0</td>\n",
       "    </tr>\n",
       "    <tr>\n",
       "      <th>4</th>\n",
       "      <td>کی پہلی پوزیشن کا انحصار انڈیا کی کارکردگی پر</td>\n",
       "      <td>India's first position depends on India's perf...</td>\n",
       "      <td>Neutral</td>\n",
       "      <td>Write Urdu</td>\n",
       "      <td>0.0</td>\n",
       "    </tr>\n",
       "  </tbody>\n",
       "</table>\n",
       "</div>\n",
       "      <button class=\"colab-df-convert\" onclick=\"convertToInteractive('df-9a6fb8f8-183c-44e0-896b-8f1cb7de5aef')\"\n",
       "              title=\"Convert this dataframe to an interactive table.\"\n",
       "              style=\"display:none;\">\n",
       "        \n",
       "  <svg xmlns=\"http://www.w3.org/2000/svg\" height=\"24px\"viewBox=\"0 0 24 24\"\n",
       "       width=\"24px\">\n",
       "    <path d=\"M0 0h24v24H0V0z\" fill=\"none\"/>\n",
       "    <path d=\"M18.56 5.44l.94 2.06.94-2.06 2.06-.94-2.06-.94-.94-2.06-.94 2.06-2.06.94zm-11 1L8.5 8.5l.94-2.06 2.06-.94-2.06-.94L8.5 2.5l-.94 2.06-2.06.94zm10 10l.94 2.06.94-2.06 2.06-.94-2.06-.94-.94-2.06-.94 2.06-2.06.94z\"/><path d=\"M17.41 7.96l-1.37-1.37c-.4-.4-.92-.59-1.43-.59-.52 0-1.04.2-1.43.59L10.3 9.45l-7.72 7.72c-.78.78-.78 2.05 0 2.83L4 21.41c.39.39.9.59 1.41.59.51 0 1.02-.2 1.41-.59l7.78-7.78 2.81-2.81c.8-.78.8-2.07 0-2.86zM5.41 20L4 18.59l7.72-7.72 1.47 1.35L5.41 20z\"/>\n",
       "  </svg>\n",
       "      </button>\n",
       "      \n",
       "  <style>\n",
       "    .colab-df-container {\n",
       "      display:flex;\n",
       "      flex-wrap:wrap;\n",
       "      gap: 12px;\n",
       "    }\n",
       "\n",
       "    .colab-df-convert {\n",
       "      background-color: #E8F0FE;\n",
       "      border: none;\n",
       "      border-radius: 50%;\n",
       "      cursor: pointer;\n",
       "      display: none;\n",
       "      fill: #1967D2;\n",
       "      height: 32px;\n",
       "      padding: 0 0 0 0;\n",
       "      width: 32px;\n",
       "    }\n",
       "\n",
       "    .colab-df-convert:hover {\n",
       "      background-color: #E2EBFA;\n",
       "      box-shadow: 0px 1px 2px rgba(60, 64, 67, 0.3), 0px 1px 3px 1px rgba(60, 64, 67, 0.15);\n",
       "      fill: #174EA6;\n",
       "    }\n",
       "\n",
       "    [theme=dark] .colab-df-convert {\n",
       "      background-color: #3B4455;\n",
       "      fill: #D2E3FC;\n",
       "    }\n",
       "\n",
       "    [theme=dark] .colab-df-convert:hover {\n",
       "      background-color: #434B5C;\n",
       "      box-shadow: 0px 1px 3px 1px rgba(0, 0, 0, 0.15);\n",
       "      filter: drop-shadow(0px 1px 2px rgba(0, 0, 0, 0.3));\n",
       "      fill: #FFFFFF;\n",
       "    }\n",
       "  </style>\n",
       "\n",
       "      <script>\n",
       "        const buttonEl =\n",
       "          document.querySelector('#df-9a6fb8f8-183c-44e0-896b-8f1cb7de5aef button.colab-df-convert');\n",
       "        buttonEl.style.display =\n",
       "          google.colab.kernel.accessAllowed ? 'block' : 'none';\n",
       "\n",
       "        async function convertToInteractive(key) {\n",
       "          const element = document.querySelector('#df-9a6fb8f8-183c-44e0-896b-8f1cb7de5aef');\n",
       "          const dataTable =\n",
       "            await google.colab.kernel.invokeFunction('convertToInteractive',\n",
       "                                                     [key], {});\n",
       "          if (!dataTable) return;\n",
       "\n",
       "          const docLinkHtml = 'Like what you see? Visit the ' +\n",
       "            '<a target=\"_blank\" href=https://colab.research.google.com/notebooks/data_table.ipynb>data table notebook</a>'\n",
       "            + ' to learn more about interactive tables.';\n",
       "          element.innerHTML = '';\n",
       "          dataTable['output_type'] = 'display_data';\n",
       "          await google.colab.output.renderOutput(dataTable, element);\n",
       "          const docLink = document.createElement('div');\n",
       "          docLink.innerHTML = docLinkHtml;\n",
       "          element.appendChild(docLink);\n",
       "        }\n",
       "      </script>\n",
       "    </div>\n",
       "  </div>\n",
       "  "
      ],
      "text/plain": [
       "                                            sentence  \\\n",
       "0  محسوس تو گوگل ٹرانسلاٹ کا مودیفائد ورژن ہی ہوت...   \n",
       "1                                    لکھنا شروع کریں   \n",
       "2       اس انتظار سے کیا گلا جو تیرے دیدار پر ختم ہو   \n",
       "3                 جشنِ چراغاں دیوالی کی دلی مبارکباد   \n",
       "4      کی پہلی پوزیشن کا انحصار انڈیا کی کارکردگی پر   \n",
       "\n",
       "                                English Translation  Sentiment  \\\n",
       "0  It feels like a modified version of Google Tra...  Positive   \n",
       "1                                      Start writing   Neutral   \n",
       "2  What is the throat of this waiting that ends w...  Negative   \n",
       "3                           Happy Diwali celebration  Positive   \n",
       "4  India's first position depends on India's perf...   Neutral   \n",
       "\n",
       "                                       Source  Index  \n",
       "0                 https://www.write-urdu.com/    1.0  \n",
       "1                 https://www.write-urdu.com/    0.0  \n",
       "2  https://www.easynepalityping.com/type-urdu   -1.0  \n",
       "3                                  @Ishq_Urdu    1.0  \n",
       "4                                  Write Urdu    0.0  "
      ]
     },
     "execution_count": 11,
     "metadata": {},
     "output_type": "execute_result"
    }
   ],
   "source": [
    "df.head()"
   ]
  },
  {
   "cell_type": "code",
   "execution_count": null,
   "metadata": {
    "colab": {
     "base_uri": "https://localhost:8080/"
    },
    "id": "w8zfqerG7HRJ",
    "outputId": "f9d07a86-d1fd-4d17-f0f1-6081f57af72e"
   },
   "outputs": [
    {
     "data": {
      "text/plain": [
       "sentence                 object\n",
       "English Translation      object\n",
       "Sentiment                object\n",
       "Source                   object\n",
       "Index                   float64\n",
       "dtype: object"
      ]
     },
     "execution_count": 13,
     "metadata": {},
     "output_type": "execute_result"
    }
   ],
   "source": [
    "df.dtypes"
   ]
  },
  {
   "cell_type": "code",
   "execution_count": null,
   "metadata": {
    "colab": {
     "base_uri": "https://localhost:8080/"
    },
    "id": "n4xSRBNB7UsQ",
    "outputId": "0243de48-a2da-4dbd-e140-ed9bd82d23d3"
   },
   "outputs": [
    {
     "data": {
      "text/plain": [
       "(1201, 5)"
      ]
     },
     "execution_count": 15,
     "metadata": {},
     "output_type": "execute_result"
    }
   ],
   "source": [
    "# Dataset Rows & Columns count\n",
    "df.shape"
   ]
  },
  {
   "cell_type": "code",
   "execution_count": null,
   "metadata": {
    "colab": {
     "base_uri": "https://localhost:8080/"
    },
    "id": "KZSPL67I7dOj",
    "outputId": "a6b64933-3b4d-4e7e-e618-6a60f8055c6b"
   },
   "outputs": [
    {
     "name": "stdout",
     "output_type": "stream",
     "text": [
      "<class 'pandas.core.frame.DataFrame'>\n",
      "RangeIndex: 1201 entries, 0 to 1200\n",
      "Data columns (total 5 columns):\n",
      " #   Column                Non-Null Count  Dtype  \n",
      "---  ------                --------------  -----  \n",
      " 0   sentence              1201 non-null   object \n",
      " 1   English Translation   1201 non-null   object \n",
      " 2   Sentiment             1200 non-null   object \n",
      " 3   Source                1199 non-null   object \n",
      " 4   Index                 1200 non-null   float64\n",
      "dtypes: float64(1), object(4)\n",
      "memory usage: 47.0+ KB\n"
     ]
    }
   ],
   "source": [
    "# Dataset Info\n",
    "df.info()"
   ]
  },
  {
   "cell_type": "code",
   "execution_count": null,
   "metadata": {
    "id": "hKziynywnyzE"
   },
   "outputs": [],
   "source": [
    "# Define dataset class for Urdu sentiment analysis\n",
    "class UrduSentimentDataset(Dataset):\n",
    "    def __init__(self, file_path):\n",
    "        self.data = pd.read_csv(file_path)\n",
    "        self.data = self.data[self.data['Index'].isin([0, 1])]  # Filter out samples with label 2\n",
    "        self.texts = self.data['sentence'].tolist()\n",
    "        self.labels = self.data['Index'].tolist()\n",
    "\n",
    "    def __len__(self):\n",
    "        return len(self.texts)\n",
    "\n",
    "    def __getitem__(self, idx):\n",
    "        text = self.texts[idx]\n",
    "        label = self.labels[idx]\n",
    "        encoded_input = tokenizer.encode_plus(\n",
    "            text,\n",
    "            add_special_tokens=True,\n",
    "            max_length=128,\n",
    "            padding='max_length',\n",
    "            truncation=True,\n",
    "            return_attention_mask=True,\n",
    "            return_tensors='pt'\n",
    "        )\n",
    "        input_ids = encoded_input['input_ids'].squeeze()\n",
    "        attention_mask = encoded_input['attention_mask'].squeeze()\n",
    "\n",
    "        return {\n",
    "            'input_ids': input_ids,\n",
    "            'attention_mask': attention_mask,\n",
    "            'labels': torch.tensor(label, dtype=torch.long)\n",
    "        }\n"
   ]
  },
  {
   "cell_type": "code",
   "execution_count": null,
   "metadata": {
    "id": "nYqZQn-ony11"
   },
   "outputs": [],
   "source": [
    "# Custom collate function for DataLoader\n",
    "def collate_fn(batch):\n",
    "    input_ids = torch.stack([item['input_ids'] for item in batch])\n",
    "    attention_mask = torch.stack([item['attention_mask'] for item in batch])\n",
    "    labels = torch.stack([item['labels'] for item in batch])\n",
    "\n",
    "    return {\n",
    "        'input_ids': input_ids,\n",
    "        'attention_mask': attention_mask,\n",
    "        'labels': labels\n",
    "    }\n"
   ]
  },
  {
   "cell_type": "code",
   "execution_count": null,
   "metadata": {
    "id": "0UBoh5LZny4w"
   },
   "outputs": [],
   "source": [
    "def train_and_evaluate_model(file_path, batch_size=32, num_epochs=10, learning_rate=1e-5):\n",
    "    # Load dataset\n",
    "    dataset = UrduSentimentDataset(file_path)\n",
    "\n",
    "    # Split dataset into train and validation sets\n",
    "    train_data, val_data = train_test_split(dataset, test_size=0.2, random_state=42)\n",
    "\n",
    "    # Create data loaders\n",
    "    train_loader = DataLoader(train_data, batch_size=batch_size, shuffle=True, collate_fn=collate_fn)\n",
    "    val_loader = DataLoader(val_data, batch_size=batch_size, collate_fn=collate_fn)\n",
    "\n",
    "    # Set up optimizer and loss function\n",
    "    optimizer = torch.optim.AdamW(model.parameters(), lr=learning_rate)\n",
    "    loss_fn = torch.nn.CrossEntropyLoss()\n",
    "\n",
    "    # Training loop\n",
    "    train_losses = []\n",
    "    model.train()\n",
    "    for epoch in range(num_epochs):\n",
    "        total_loss = 0.0\n",
    "        total_predictions = 0\n",
    "        correct_predictions = 0\n",
    "        for batch in train_loader:\n",
    "            optimizer.zero_grad()\n",
    "            input_ids = batch['input_ids']\n",
    "            attention_mask = batch['attention_mask']\n",
    "            labels = batch['labels']\n",
    "\n",
    "            outputs = model(input_ids, attention_mask=attention_mask, labels=labels)\n",
    "            loss = outputs.loss\n",
    "            total_loss += loss.item()\n",
    "\n",
    "            _, predicted_labels = torch.max(outputs.logits, dim=1)\n",
    "            correct_predictions += (predicted_labels == labels).sum().item()\n",
    "            total_predictions += labels.size(0)\n",
    "\n",
    "            loss.backward()\n",
    "            optimizer.step()\n",
    "\n",
    "        average_loss = total_loss / len(train_loader)\n",
    "        train_losses.append(average_loss)\n",
    "        train_accuracy = correct_predictions / total_predictions\n",
    "        print(f\"Epoch {epoch+1}/{num_epochs} - Loss: {average_loss:.4f} - Train Accuracy: {train_accuracy:.4f}\")\n",
    "\n",
    "        # Print train data\n",
    "        if epoch == 0:\n",
    "            print(\"\\nTrain Data:\")\n",
    "            for i, data in enumerate(train_loader):\n",
    "                print(f\"Batch {i+1}/{len(train_loader)}\")\n",
    "                print(\"Input IDs:\", data['input_ids'])\n",
    "                print(\"Attention Mask:\", data['attention_mask'])\n",
    "                print(\"Labels:\", data['labels'])\n",
    "                if i == 2:  # Print the first 3 batches only for demonstration\n",
    "                    break\n",
    "\n",
    "        # Print validation data\n",
    "        if epoch == 0:\n",
    "            print(\"\\nValidation Data:\")\n",
    "            for i, data in enumerate(val_loader):\n",
    "                print(f\"Batch {i+1}/{len(val_loader)}\")\n",
    "                print(\"Input IDs:\", data['input_ids'])\n",
    "                print(\"Attention Mask:\", data['attention_mask'])\n",
    "                print(\"Labels:\", data['labels'])\n",
    "                if i == 2:  # Print the first 3 batches only for demonstration\n",
    "                    break\n",
    "\n",
    "    # Evaluation loop\n",
    "    model.eval()\n",
    "    correct_predictions = 0\n",
    "    total_predictions = 0\n",
    "    predicted_labels_all = []\n",
    "    true_labels_all = []\n",
    "    with torch.no_grad():\n",
    "        for batch in val_loader:\n",
    "            input_ids = batch['input_ids']\n",
    "            attention_mask = batch['attention_mask']\n",
    "            labels = batch['labels']\n",
    "\n",
    "            outputs = model(input_ids, attention_mask=attention_mask)\n",
    "            _, predicted_labels = torch.max(outputs.logits, dim=1)\n",
    "\n",
    "            correct_predictions += (predicted_labels == labels).sum().item()\n",
    "            total_predictions += labels.size(0)\n",
    "\n",
    "            predicted_labels_all.extend(predicted_labels.cpu().numpy())\n",
    "            true_labels_all.extend(labels.cpu().numpy())\n",
    "\n",
    "    accuracy = correct_predictions / total_predictions\n",
    "    print(f\"Validation Accuracy: {accuracy:.4f}\")\n",
    "\n",
    "\n",
    "    # Calculate F1 score\n",
    "    f1 = f1_score(true_labels_all, predicted_labels_all, average='weighted')\n",
    "    print(f\"F1 Score: {f1:.4f}\")\n",
    "\n",
    "\n",
    "      # Confusion matrix\n",
    "    cm = confusion_matrix(true_labels_all, predicted_labels_all)\n",
    "    class_names = ['Negative', 'Positive']\n",
    "    fig, ax = plt.subplots(figsize=(8, 6))\n",
    "    sns.heatmap(cm, annot=True, fmt='d', cmap='Blues', xticklabels=class_names, yticklabels=class_names, ax=ax)\n",
    "    ax.set_xlabel('Predicted Labels')\n",
    "    ax.set_ylabel('True Labels')\n",
    "    ax.set_title('Confusion Matrix')\n",
    "    plt.show()\n",
    "\n",
    "    # Histogram of train losses\n",
    "    plt.figure(figsize=(8, 6))\n",
    "    plt.plot(train_losses)\n",
    "    plt.xlabel('Epoch')\n",
    "    plt.ylabel('Train Loss')\n",
    "    plt.title('Train Losses')\n",
    "    plt.show()\n",
    "\n",
    "    # Line graph of test accuracy\n",
    "    test_accuracy = accuracy\n",
    "    train_accuracy = 1.0 - np.array(train_losses)\n",
    "    epochs = range(1, num_epochs + 1)\n",
    "    plt.figure(figsize=(8, 6))\n",
    "    plt.plot(epochs, train_accuracy, 'b-', label='Train Accuracy')\n",
    "    plt.plot(num_epochs, test_accuracy, 'r*', markersize=10, label='Test Accuracy')\n",
    "    plt.xlabel('Epoch')\n",
    "    plt.ylabel('Accuracy')\n",
    "    plt.title('Train and Test Accuracy')\n",
    "    plt.legend()\n",
    "    plt.show()\n",
    "\n",
    "    # Save the trained model\n",
    "    model.save_pretrained(\"urdu_sentiment_model\")\n"
   ]
  },
  {
   "cell_type": "code",
   "execution_count": null,
   "metadata": {
    "colab": {
     "base_uri": "https://localhost:8080/",
     "height": 1000
    },
    "id": "9qiqubfDny8N",
    "outputId": "276f05e6-e5c9-4edd-fa9b-a7424fc14500"
   },
   "outputs": [
    {
     "name": "stdout",
     "output_type": "stream",
     "text": [
      "Enter the path to the training CSV file: /content/Copy of Urdu Sentiment Analysis - Sheet1.csv\n",
      "Epoch 1/10 - Loss: 0.6762 - Train Accuracy: 0.5750\n",
      "\n",
      "Train Data:\n",
      "Batch 1/20\n",
      "Input IDs: tensor([[  101,   793, 20451,  ...,     0,     0,     0],\n",
      "        [  101, 10289, 24579,  ...,     0,     0,     0],\n",
      "        [  101, 94656, 10388,  ...,     0,     0,     0],\n",
      "        ...,\n",
      "        [  101, 76295, 11722,  ...,     0,     0,     0],\n",
      "        [  101,   788, 67108,  ...,     0,     0,     0],\n",
      "        [  101,   793, 22468,  ...,     0,     0,     0]])\n",
      "Attention Mask: tensor([[1, 1, 1,  ..., 0, 0, 0],\n",
      "        [1, 1, 1,  ..., 0, 0, 0],\n",
      "        [1, 1, 1,  ..., 0, 0, 0],\n",
      "        ...,\n",
      "        [1, 1, 1,  ..., 0, 0, 0],\n",
      "        [1, 1, 1,  ..., 0, 0, 0],\n",
      "        [1, 1, 1,  ..., 0, 0, 0]])\n",
      "Labels: tensor([0, 1, 1, 1, 1, 0, 0, 1, 1, 0, 0, 0, 0, 0, 1, 1, 1, 1, 1, 0, 1, 1, 1, 1,\n",
      "        0, 0, 1, 1, 1, 0, 1, 1])\n",
      "Batch 2/20\n",
      "Input IDs: tensor([[  101, 59901, 94607,  ...,     0,     0,     0],\n",
      "        [  101,   770, 14556,  ...,     0,     0,     0],\n",
      "        [  101,   773, 14431,  ...,     0,     0,     0],\n",
      "        ...,\n",
      "        [  101, 70054, 10502,  ...,     0,     0,     0],\n",
      "        [  101, 10327, 10502,  ...,     0,     0,     0],\n",
      "        [  101,   777, 89739,  ...,     0,     0,     0]])\n",
      "Attention Mask: tensor([[1, 1, 1,  ..., 0, 0, 0],\n",
      "        [1, 1, 1,  ..., 0, 0, 0],\n",
      "        [1, 1, 1,  ..., 0, 0, 0],\n",
      "        ...,\n",
      "        [1, 1, 1,  ..., 0, 0, 0],\n",
      "        [1, 1, 1,  ..., 0, 0, 0],\n",
      "        [1, 1, 1,  ..., 0, 0, 0]])\n",
      "Labels: tensor([0, 0, 1, 1, 0, 0, 1, 0, 0, 0, 0, 0, 0, 1, 1, 0, 1, 0, 1, 0, 0, 0, 0, 0,\n",
      "        1, 1, 0, 1, 1, 0, 0, 1])\n",
      "Batch 3/20\n",
      "Input IDs: tensor([[  101, 54237, 23984,  ...,     0,     0,     0],\n",
      "        [  101, 10566, 17329,  ...,     0,     0,     0],\n",
      "        [  101,   119, 76636,  ...,     0,     0,     0],\n",
      "        ...,\n",
      "        [  101, 32254,   763,  ...,     0,     0,     0],\n",
      "        [  101, 15764, 10700,  ...,     0,     0,     0],\n",
      "        [  101,   776, 39337,  ...,     0,     0,     0]])\n",
      "Attention Mask: tensor([[1, 1, 1,  ..., 0, 0, 0],\n",
      "        [1, 1, 1,  ..., 0, 0, 0],\n",
      "        [1, 1, 1,  ..., 0, 0, 0],\n",
      "        ...,\n",
      "        [1, 1, 1,  ..., 0, 0, 0],\n",
      "        [1, 1, 1,  ..., 0, 0, 0],\n",
      "        [1, 1, 1,  ..., 0, 0, 0]])\n",
      "Labels: tensor([0, 1, 0, 1, 1, 0, 1, 1, 1, 0, 0, 1, 0, 0, 0, 1, 1, 0, 1, 1, 0, 1, 1, 0,\n",
      "        1, 1, 0, 0, 0, 0, 1, 1])\n",
      "\n",
      "Validation Data:\n",
      "Batch 1/5\n",
      "Input IDs: tensor([[  101, 10909, 17911,  ...,     0,     0,     0],\n",
      "        [  101, 62902, 58726,  ...,     0,     0,     0],\n",
      "        [  101, 23780, 12427,  ...,     0,     0,     0],\n",
      "        ...,\n",
      "        [  101, 37554, 85178,  ...,     0,     0,     0],\n",
      "        [  101, 26716, 12190,  ...,     0,     0,     0],\n",
      "        [  101, 14043, 15436,  ...,     0,     0,     0]])\n",
      "Attention Mask: tensor([[1, 1, 1,  ..., 0, 0, 0],\n",
      "        [1, 1, 1,  ..., 0, 0, 0],\n",
      "        [1, 1, 1,  ..., 0, 0, 0],\n",
      "        ...,\n",
      "        [1, 1, 1,  ..., 0, 0, 0],\n",
      "        [1, 1, 1,  ..., 0, 0, 0],\n",
      "        [1, 1, 1,  ..., 0, 0, 0]])\n",
      "Labels: tensor([0, 0, 1, 0, 1, 0, 1, 1, 0, 0, 1, 0, 0, 1, 0, 1, 1, 0, 0, 0, 0, 0, 0, 0,\n",
      "        1, 1, 1, 0, 0, 0, 0, 0])\n",
      "Batch 2/5\n",
      "Input IDs: tensor([[   101,  99777,  11626,  ...,      0,      0,      0],\n",
      "        [   101,    788,  40381,  ...,      0,      0,      0],\n",
      "        [   101,  12218,  58141,  ...,      0,      0,      0],\n",
      "        ...,\n",
      "        [   101,  12441,  11626,  ...,      0,      0,      0],\n",
      "        [   101,    817,  11503,  ...,      0,      0,      0],\n",
      "        [   101,  11917, 107289,  ...,      0,      0,      0]])\n",
      "Attention Mask: tensor([[1, 1, 1,  ..., 0, 0, 0],\n",
      "        [1, 1, 1,  ..., 0, 0, 0],\n",
      "        [1, 1, 1,  ..., 0, 0, 0],\n",
      "        ...,\n",
      "        [1, 1, 1,  ..., 0, 0, 0],\n",
      "        [1, 1, 1,  ..., 0, 0, 0],\n",
      "        [1, 1, 1,  ..., 0, 0, 0]])\n",
      "Labels: tensor([0, 0, 1, 1, 0, 0, 0, 0, 1, 1, 1, 1, 0, 1, 1, 0, 0, 0, 1, 1, 0, 0, 0, 1,\n",
      "        1, 1, 1, 1, 1, 0, 0, 1])\n",
      "Batch 3/5\n",
      "Input IDs: tensor([[  101,   793, 11693,  ...,     0,     0,     0],\n",
      "        [  101,   825, 26725,  ...,     0,     0,     0],\n",
      "        [  101,   766, 42172,  ...,     0,     0,     0],\n",
      "        ...,\n",
      "        [  101, 76295, 23379,  ...,     0,     0,     0],\n",
      "        [  101,   776, 35067,  ...,     0,     0,     0],\n",
      "        [  101,   764, 34783,  ...,     0,     0,     0]])\n",
      "Attention Mask: tensor([[1, 1, 1,  ..., 0, 0, 0],\n",
      "        [1, 1, 1,  ..., 0, 0, 0],\n",
      "        [1, 1, 1,  ..., 0, 0, 0],\n",
      "        ...,\n",
      "        [1, 1, 1,  ..., 0, 0, 0],\n",
      "        [1, 1, 1,  ..., 0, 0, 0],\n",
      "        [1, 1, 1,  ..., 0, 0, 0]])\n",
      "Labels: tensor([1, 1, 1, 1, 1, 0, 0, 1, 0, 1, 1, 1, 0, 0, 1, 0, 1, 1, 1, 0, 1, 1, 0, 1,\n",
      "        1, 1, 0, 0, 0, 0, 0, 0])\n",
      "Epoch 2/10 - Loss: 0.6484 - Train Accuracy: 0.6359\n",
      "Epoch 3/10 - Loss: 0.6181 - Train Accuracy: 0.6656\n",
      "Epoch 4/10 - Loss: 0.5777 - Train Accuracy: 0.7063\n",
      "Epoch 5/10 - Loss: 0.5126 - Train Accuracy: 0.7688\n",
      "Epoch 6/10 - Loss: 0.4414 - Train Accuracy: 0.8187\n",
      "Epoch 7/10 - Loss: 0.3104 - Train Accuracy: 0.8875\n",
      "Epoch 8/10 - Loss: 0.2379 - Train Accuracy: 0.9031\n",
      "Epoch 9/10 - Loss: 0.1688 - Train Accuracy: 0.9406\n",
      "Epoch 10/10 - Loss: 0.1281 - Train Accuracy: 0.9516\n",
      "Validation Accuracy: 0.7063\n",
      "F1 Score: 0.7041\n"
     ]
    },
    {
     "data": {
      "image/png": "[encoded data removed]",
      "text/plain": [
       "<Figure size 800x600 with 2 Axes>"
      ]
     },
     "metadata": {},
     "output_type": "display_data"
    },
    {
     "data": {
      "image/png": "[encoded data removed]",
      "text/plain": [
       "<Figure size 800x600 with 1 Axes>"
      ]
     },
     "metadata": {},
     "output_type": "display_data"
    },
    {
     "data": {
      "image/png": "[encoded data removed]",
      "text/plain": [
       "<Figure size 800x600 with 1 Axes>"
      ]
     },
     "metadata": {},
     "output_type": "display_data"
    }
   ],
   "source": [
    "# Run the training and evaluation\n",
    "if __name__ == '__main__':\n",
    "    file_path = input(\"Enter the path to the training CSV file: \")\n",
    "    train_and_evaluate_model(file_path)"
   ]
  },
  {
   "cell_type": "code",
   "execution_count": null,
   "metadata": {
    "id": "IrgtXp1dhlNq"
   },
   "outputs": [],
   "source": []
  },
  {
   "cell_type": "code",
   "execution_count": null,
   "metadata": {
    "id": "Y9AXGUfEhlRz"
   },
   "outputs": [],
   "source": []
  },
  {
   "cell_type": "code",
   "execution_count": null,
   "metadata": {
    "id": "pzhrfk9vZmBd"
   },
   "outputs": [],
   "source": []
  },
  {
   "cell_type": "code",
   "execution_count": null,
   "metadata": {
    "id": "9j2I7Hn_ZmFO"
   },
   "outputs": [],
   "source": []
  }
 ],
 "metadata": {
  "colab": {
   "provenance": []
  },
  "kernelspec": {
   "display_name": "Python 3",
   "language": "python",
   "name": "python3"
  },
  "language_info": {
   "codemirror_mode": {
    "name": "ipython",
    "version": 3
   },
   "file_extension": ".py",
   "mimetype": "text/x-python",
   "name": "python",
   "nbconvert_exporter": "python",
   "pygments_lexer": "ipython3",
   "version": "3.8.5"
  }
 },
 "nbformat": 4,
 "nbformat_minor": 4
}
